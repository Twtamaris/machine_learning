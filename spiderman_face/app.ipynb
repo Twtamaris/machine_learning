{
 "cells": [
  {
   "cell_type": "code",
   "execution_count": 2,
   "metadata": {},
   "outputs": [],
   "source": [
    "import cv2\n",
    "import os\n"
   ]
  },
  {
   "cell_type": "code",
   "execution_count": 3,
   "metadata": {},
   "outputs": [],
   "source": [
    "images_name = os.listdir('images')\n"
   ]
  },
  {
   "cell_type": "code",
   "execution_count": 4,
   "metadata": {},
   "outputs": [],
   "source": [
    "images = []\n",
    "for i in images_name:\n",
    "    images.append(cv2.imread('images/'+i))"
   ]
  },
  {
   "cell_type": "code",
   "execution_count": 5,
   "metadata": {},
   "outputs": [],
   "source": [
    "import matplotlib.pyplot as plt"
   ]
  },
  {
   "cell_type": "code",
   "execution_count": null,
   "metadata": {},
   "outputs": [],
   "source": []
  },
  {
   "cell_type": "code",
   "execution_count": 12,
   "metadata": {},
   "outputs": [],
   "source": [
    "import cv2\n",
    "import numpy as np\n",
    "import random\n",
    "\n",
    "# Load the face cascade classifier\n",
    "face_cascade = cv2.CascadeClassifier(cv2.data.haarcascades + 'haarcascade_frontalface_default.xml')\n",
    "\n",
    "# Open the video capture\n",
    "video_capture = cv2.VideoCapture(0)\n",
    "\n",
    "# Get the frame dimensions\n",
    "frame_width = int(video_capture.get(cv2.CAP_PROP_FRAME_WIDTH))\n",
    "frame_height = int(video_capture.get(cv2.CAP_PROP_FRAME_HEIGHT))\n",
    "\n",
    "# Resize the images to (30, 50)\n",
    "resized_images = [cv2.resize(image, (30, 50)) for image in images]\n",
    "\n",
    "# Flag to indicate if face is detected\n",
    "face_detected = False\n",
    "\n",
    "while True:\n",
    "    # Read the frame from the video capture\n",
    "    ret, frame = video_capture.read()\n",
    "\n",
    "    frame=cv2.flip(frame, 1)\n",
    "\n",
    "    # Convert the frame to grayscale for face detection\n",
    "    gray_frame = cv2.cvtColor(frame, cv2.COLOR_BGR2GRAY)\n",
    "\n",
    "    # Detect faces in the frame\n",
    "    faces = face_cascade.detectMultiScale(gray_frame, scaleFactor=1.1, minNeighbors=5, minSize=(30, 30))\n",
    "\n",
    "    if len(faces) > 0:\n",
    "        # Face detected\n",
    "        face_detected = True\n",
    "        # faces = [(100, 50, 200, 200), (50, 100, 150, 150), (200, 80, 150, 150)]\n",
    "        # this code below does this\n",
    "        # [(50, 100, 150, 150), (100, 50, 200, 200), (200, 80, 150, 150)]\n",
    "        # Sort faces by x-coordinate (left to right)\n",
    "        faces = sorted(faces, key=lambda x: x[0])\n",
    "\n",
    "        # Get the first detected face\n",
    "        (x, y, w, h) = faces[0]\n",
    "        new_resized_images = [cv2.resize(image, (int(w/3), int(h/3))) for image in images]\n",
    "        \n",
    "        \n",
    "\n",
    "        # Overlay the images in a 3x3 grid on the detected face\n",
    "        grid_size = 3\n",
    "        image_index = 0\n",
    "\n",
    "        for row in range(grid_size):\n",
    "            for col in range(grid_size):\n",
    "                if image_index < len(new_resized_images):\n",
    "                    # Calculate the position to overlay the image\n",
    "                    x_offset = x + col * int(w/3)\n",
    "                    y_offset = y + row * int(h/3)\n",
    "\n",
    "                    # Make sure the image does not go beyond the frame boundaries\n",
    "                    # x_offset = max(0, x_offset)\n",
    "                    # y_offset = max(0, y_offset)\n",
    "                    # x_offset = min(x_offset, frame_width - resized_images[image_index].shape[1])\n",
    "                    # y_offset = min(y_offset, frame_height - resized_images[image_index].shape[0])\n",
    "\n",
    "                    # Create a region of interest (ROI) for the image\n",
    "                    roi = frame[y_offset:y_offset + int(h/3),x_offset:x_offset + int(w/3)]\n",
    "\n",
    "                    # Add the image to the ROI\n",
    "                    # roi pachadi ko 0 cha ni tesle image frame ma kati ko visible hos vanxa\n",
    "                    blended = cv2.addWeighted(roi, 0, new_resized_images[image_index], 1, 1)\n",
    "                    frame[y_offset:y_offset + int(h/3),x_offset:x_offset + int(w/3)] = blended\n",
    "\n",
    "                image_index += 1\n",
    "\n",
    "    else:\n",
    "        # No face detected\n",
    "        face_detected = False\n",
    "\n",
    "        # Overlay the images at random positions\n",
    "        for image in resized_images:\n",
    "            # Randomly select x, y position for the image\n",
    "            x = random.randint(0, frame_width - image.shape[1])\n",
    "            y = random.randint(0, frame_height - image.shape[0])\n",
    "\n",
    "            # Create a region of interest (ROI) for the image\n",
    "            roi = frame[y:y + image.shape[0], x:x + image.shape[1]]\n",
    "\n",
    "            # Add the image to the ROI\n",
    "            blended = cv2.addWeighted(roi, 0, image, 1, 0)\n",
    "            frame[y:y + image.shape[0], x:x + image.shape[1]] = blended\n",
    "\n",
    "    # Display the frame\n",
    "    cv2.imshow('Camera', frame)\n",
    "\n",
    "    # Check for the \"q\" key press\n",
    "    key = cv2.waitKey(100)\n",
    "    if key == ord('q'):\n",
    "        break\n",
    "\n",
    "# Release the video capture and close the window\n",
    "video_capture.release()\n",
    "cv2.destroyAllWindows()\n"
   ]
  },
  {
   "cell_type": "code",
   "execution_count": null,
   "metadata": {},
   "outputs": [],
   "source": []
  },
  {
   "cell_type": "code",
   "execution_count": 7,
   "metadata": {},
   "outputs": [
    {
     "name": "stdout",
     "output_type": "stream",
     "text": [
      "(50, 30, 3)\n",
      "(50, 30, 3)\n",
      "(50, 30, 3)\n",
      "(50, 30, 3)\n",
      "(50, 30, 3)\n",
      "(50, 30, 3)\n",
      "(50, 30, 3)\n",
      "(50, 30, 3)\n",
      "(50, 30, 3)\n"
     ]
    }
   ],
   "source": [
    "for i, image in enumerate(resized_images):\n",
    "    print(image.shape)"
   ]
  },
  {
   "cell_type": "code",
   "execution_count": 8,
   "metadata": {},
   "outputs": [
    {
     "data": {
      "text/plain": [
       "[]"
      ]
     },
     "execution_count": 8,
     "metadata": {},
     "output_type": "execute_result"
    }
   ],
   "source": [
    "sorted(faces, key=lambda x: x[0])"
   ]
  },
  {
   "cell_type": "code",
   "execution_count": 9,
   "metadata": {},
   "outputs": [],
   "source": [
    "import matplotlib.pyplot as plt"
   ]
  },
  {
   "cell_type": "code",
   "execution_count": 10,
   "metadata": {},
   "outputs": [
    {
     "data": {
      "image/png": "[encoded data removed]",
      "text/plain": [
       "<Figure size 432x288 with 1 Axes>"
      ]
     },
     "metadata": {
      "needs_background": "light"
     },
     "output_type": "display_data"
    },
    {
     "name": "stdout",
     "output_type": "stream",
     "text": [
      "(282, 194, 3)\n"
     ]
    }
   ],
   "source": [
    "# Display image[1]\n",
    "plt.imshow(images[0])\n",
    "plt.show()\n",
    "print(images[0].shape)"
   ]
  },
  {
   "cell_type": "code",
   "execution_count": null,
   "metadata": {},
   "outputs": [],
   "source": []
  },
  {
   "cell_type": "code",
   "execution_count": 11,
   "metadata": {},
   "outputs": [
    {
     "data": {
      "text/plain": [
       "['image_part_001.jpg',\n",
       " 'image_part_002.jpg',\n",
       " 'image_part_003.jpg',\n",
       " 'image_part_004.jpg',\n",
       " 'image_part_005.jpg',\n",
       " 'image_part_006.jpg',\n",
       " 'image_part_007.jpg',\n",
       " 'image_part_008.jpg',\n",
       " 'image_part_009.jpg']"
      ]
     },
     "execution_count": 11,
     "metadata": {},
     "output_type": "execute_result"
    }
   ],
   "source": [
    "import os\n",
    "files = os.listdir('images')\n",
    "files\n"
   ]
  }
 ],
 "metadata": {
  "kernelspec": {
   "display_name": "Python 3",
   "language": "python",
   "name": "python3"
  },
  "language_info": {
   "codemirror_mode": {
    "name": "ipython",
    "version": 3
   },
   "file_extension": ".py",
   "mimetype": "text/x-python",
   "name": "python",
   "nbconvert_exporter": "python",
   "pygments_lexer": "ipython3",
   "version": "3.9.5"
  },
  "orig_nbformat": 4
 },
 "nbformat": 4,
 "nbformat_minor": 2
}

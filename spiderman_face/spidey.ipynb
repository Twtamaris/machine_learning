{
 "cells": [
  {
   "cell_type": "code",
   "execution_count": 1,
   "metadata": {},
   "outputs": [],
   "source": [
    "import cv2\n",
    "import mediapipe as mp"
   ]
  },
  {
   "cell_type": "code",
   "execution_count": 2,
   "metadata": {},
   "outputs": [],
   "source": [
    "mp_drawing = mp.solutions.drawing_utils\n",
    "mp_drawing_styles = mp.solutions.drawing_styles\n",
    "mp_hands = mp.solutions.hands\n"
   ]
  },
  {
   "cell_type": "code",
   "execution_count": 9,
   "metadata": {},
   "outputs": [
    {
     "data": {
      "text/plain": [
       "[]"
      ]
     },
     "execution_count": 9,
     "metadata": {},
     "output_type": "execute_result"
    }
   ],
   "source": []
  },
  {
   "cell_type": "code",
   "execution_count": null,
   "metadata": {},
   "outputs": [],
   "source": [
    "cap = cv2.VideoCapture(0)\n",
    "hands = mp_hands.Hands()\n",
    "\n",
    "# picture_coordinates = []\n",
    "picture_coordinates = [(100, 100), (200, 200), (300, 300), (400, 400), (500, 500)]\n",
    "points =0\n",
    "\n"
   ]
  },
  {
   "cell_type": "code",
   "execution_count": 62,
   "metadata": {},
   "outputs": [
    {
     "name": "stdout",
     "output_type": "stream",
     "text": [
      "inside\n",
      "inside\n",
      "inside\n",
      "inside\n",
      "inside\n",
      "inside\n",
      "inside\n",
      "inside\n",
      "inside\n",
      "inside\n",
      "inside\n",
      "inside\n",
      "inside\n",
      "inside\n",
      "inside\n",
      "inside\n",
      "inside\n",
      "inside\n",
      "inside\n",
      "inside\n",
      "inside\n",
      "inside\n",
      "inside\n",
      "inside\n",
      "inside\n",
      "inside\n"
     ]
    }
   ],
   "source": [
    "import random\n",
    "import cv2\n",
    "import mediapipe as mp\n",
    "import numpy as np\n",
    "\n",
    "mp_drawing = mp.solutions.drawing_utils\n",
    "mp_drawing_styles = mp.solutions.drawing_styles\n",
    "mp_hands = mp.solutions.hands\n",
    "\n",
    "cap = cv2.VideoCapture(0)\n",
    "hands = mp_hands.Hands()\n",
    "\n",
    "# Define the list of picture coordinates\n",
    "picture_coordinates = [(100, 100), (200, 200), (300, 300), (400, 400), (500, 500)]\n",
    "picture_coordinates\n",
    "points = 0\n",
    "\n",
    "# Randomly select initial coordinates for each picture\n",
    "random.shuffle(picture_coordinates)\n",
    "\n",
    "# take the window size\n",
    "window_size = (int(cap.get(cv2.CAP_PROP_FRAME_WIDTH)), int(cap.get(cv2.CAP_PROP_FRAME_HEIGHT)))\n",
    "x1 = int(window_size[0]/2) - 100\n",
    "y1 = int(window_size[1]/2) - 50\n",
    "x2 = int(window_size[0]/2) + 100\n",
    "y2 = int(window_size[1]/2) + 50\n",
    "\n",
    "\n",
    "text = 'Rectangle Game'\n",
    "text_size= cv2.getTextSize(text, cv2.FONT_HERSHEY_SIMPLEX, 1, 2)\n",
    "\n",
    "\n",
    "while True:\n",
    "    success, image = cap.read()\n",
    "\n",
    "    image = cv2.cvtColor(cv2.flip(image, 1), cv2.COLOR_BGR2RGB)\n",
    "    # Here the image arrray is read only mode\n",
    "    image.flags.writeable = False\n",
    "    results = hands.process(image)\n",
    "    # print(results)\n",
    "    # Here the image arrray is writeable mode\n",
    "    image.flags.writeable = True\n",
    "    image = cv2.cvtColor(image, cv2.COLOR_RGB2BGR)\n",
    "\n",
    "    if results.multi_hand_landmarks:\n",
    "        for hand_landmarks in results.multi_hand_landmarks:\n",
    "            mp_drawing.draw_landmarks(\n",
    "                # This is the image on which we want to draw the landmarks\n",
    "                image,\n",
    "                # This is the landmark list\n",
    "                # Landmark means the points on the hand\n",
    "                hand_landmarks,\n",
    "                # This is the connection list\n",
    "                # Connection means the lines between the points\n",
    "                mp_hands.HAND_CONNECTIONS,\n",
    "                # This gives the color of the hand\n",
    "                mp_drawing_styles.get_default_hand_landmarks_style(),\n",
    "                # This gives the color of the hand connections\n",
    "                mp_drawing_styles.get_default_hand_connections_style(),\n",
    "            )\n",
    "\n",
    "            # Check if index finger is touching any picture\n",
    "            index_finger_coordinates = (\n",
    "                hand_landmarks.landmark[mp_hands.HandLandmark.INDEX_FINGER_TIP].x * image.shape[1],\n",
    "                hand_landmarks.landmark[mp_hands.HandLandmark.INDEX_FINGER_TIP].y * image.shape[0]\n",
    "            )\n",
    "            thumb_coordinates = (\n",
    "                hand_landmarks.landmark[mp_hands.HandLandmark.THUMB_TIP].x * image.shape[1],\n",
    "                hand_landmarks.landmark[mp_hands.HandLandmark.THUMB_TIP].y * image.shape[0]\n",
    "            )\n",
    "            for i, (x, y) in enumerate(picture_coordinates):\n",
    "                if abs(x - index_finger_coordinates[0]) < 30 and abs(y - index_finger_coordinates[1]) < 30:\n",
    "                    # Index finger is touching the picture\n",
    "                    picture_coordinates.pop(i)\n",
    "                    points += 1\n",
    "                    break\n",
    "                # if abs(x1-thumb_coordinates[0]-index_finger_coordinates[0])<100 and abs(y1-thumb_coordinates[1]-index_finger_coordinates[0])<50:\n",
    "                #     print(\"inside\")\n",
    "    \n",
    "            \n",
    "            \n",
    "                \n",
    "    cv2.rectangle(image, (x1, y1), (x2, y2), (105, 136, 207), cv2.FILLED)\n",
    "    cv2.putText(image, f\"Rectangle Game\", (x1+10, y1+50), cv2.FONT_HERSHEY_SIMPLEX, 0.7, (0, 0, 0), 1)\n",
    "    \n",
    "   \n",
    "\n",
    "\n",
    "# \n",
    "\n",
    "    # Draw the pictures on the screen\n",
    "    for x, y in picture_coordinates:\n",
    "        # (x-30, y-30) is the top left corner of the picture\n",
    "        # (x+30, y+30) is the bottom right corner of the picture\n",
    "        cv2.rectangle(image, (x-30, y-30), (x+30, y+30), (0, 255, 0), cv2.FILLED)\n",
    "\n",
    "    # Display the points counter\n",
    "    cv2.putText(image, f\"Points: {points}\", (10, 30), cv2.FONT_HERSHEY_SIMPLEX, 1, (0, 0, 255), 2)\n",
    "\n",
    "    cv2.imshow(\"MediaPipe Hands\", image)\n",
    "    if cv2.waitKey(5) & 0xFF == 27:\n",
    "        break\n",
    "cap.release()\n",
    "cv2.destroyAllWindows()\n"
   ]
  },
  {
   "cell_type": "code",
   "execution_count": null,
   "metadata": {},
   "outputs": [],
   "source": []
  },
  {
   "cell_type": "code",
   "execution_count": null,
   "metadata": {},
   "outputs": [],
   "source": []
  }
 ],
 "metadata": {
  "kernelspec": {
   "display_name": "Python 3",
   "language": "python",
   "name": "python3"
  },
  "language_info": {
   "codemirror_mode": {
    "name": "ipython",
    "version": 3
   },
   "file_extension": ".py",
   "mimetype": "text/x-python",
   "name": "python",
   "nbconvert_exporter": "python",
   "pygments_lexer": "ipython3",
   "version": "3.9.5"
  },
  "orig_nbformat": 4
 },
 "nbformat": 4,
 "nbformat_minor": 2
}

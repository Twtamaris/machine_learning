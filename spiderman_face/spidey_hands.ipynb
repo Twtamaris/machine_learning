{
 "cells": [
  {
   "cell_type": "code",
   "execution_count": 2,
   "metadata": {},
   "outputs": [],
   "source": [
    "import os\n",
    "import numpy as np\n",
    "import pandas as pd\n",
    "import matplotlib.pyplot as plt\n",
    "import matplotlib.image as mpimg\n",
    "from sklearn.model_selection import train_test_split\n",
    "\n"
   ]
  },
  {
   "cell_type": "code",
   "execution_count": 3,
   "metadata": {},
   "outputs": [],
   "source": [
    "hand_image = os.listdir('hand_images')"
   ]
  },
  {
   "cell_type": "code",
   "execution_count": 4,
   "metadata": {},
   "outputs": [
    {
     "name": "stdout",
     "output_type": "stream",
     "text": [
      "0\n"
     ]
    }
   ],
   "source": [
    "print(len(hand_image))"
   ]
  },
  {
   "cell_type": "code",
   "execution_count": 8,
   "metadata": {},
   "outputs": [
    {
     "data": {
      "text/plain": [
       "['Screenshot 2023-06-19 140319.png',\n",
       " 'Screenshot 2023-06-19 140324.png',\n",
       " 'Screenshot 2023-06-19 140331.png',\n",
       " 'Screenshot 2023-06-19 140338.png',\n",
       " 'Screenshot 2023-06-19 140343.png',\n",
       " 'Screenshot 2023-06-19 140348.png',\n",
       " 'Screenshot 2023-06-19 140356.png',\n",
       " 'Screenshot 2023-06-19 140400.png',\n",
       " 'Screenshot 2023-06-19 140404.png',\n",
       " 'Screenshot 2023-06-19 140409.png',\n",
       " 'Screenshot 2023-06-19 140414.png',\n",
       " 'Screenshot 2023-06-19 140420.png',\n",
       " 'Screenshot 2023-06-19 140425.png',\n",
       " 'Screenshot 2023-06-19 140430.png',\n",
       " 'Screenshot 2023-06-19 140435.png',\n",
       " 'Screenshot 2023-06-19 140440.png',\n",
       " 'Screenshot 2023-06-19 140445.png',\n",
       " 'Screenshot 2023-06-19 140502.png',\n",
       " 'Screenshot 2023-06-19 140506.png',\n",
       " 'Screenshot 2023-06-19 140510.png',\n",
       " 'Screenshot 2023-06-19 140516.png',\n",
       " 'Screenshot 2023-06-19 140522.png',\n",
       " 'Screenshot 2023-06-19 140526.png',\n",
       " 'Screenshot 2023-06-19 140531.png',\n",
       " 'Screenshot 2023-06-19 140536.png',\n",
       " 'Screenshot 2023-06-19 140539.png',\n",
       " 'Screenshot 2023-06-19 140543.png',\n",
       " 'Screenshot 2023-06-19 140547.png',\n",
       " 'Screenshot 2023-06-19 140550.png',\n",
       " 'Screenshot 2023-06-19 140553.png',\n",
       " 'Screenshot 2023-06-19 140556.png',\n",
       " 'Screenshot 2023-06-19 140600.png',\n",
       " 'Screenshot 2023-06-19 140603.png',\n",
       " 'Screenshot 2023-06-19 140607.png',\n",
       " 'Screenshot 2023-06-19 140611.png',\n",
       " 'Screenshot 2023-06-19 140614.png',\n",
       " 'Screenshot 2023-06-19 140617.png',\n",
       " 'Screenshot 2023-06-19 140620.png',\n",
       " 'Screenshot 2023-06-19 140624.png']"
      ]
     },
     "execution_count": 8,
     "metadata": {},
     "output_type": "execute_result"
    }
   ],
   "source": [
    "spidey_hands = os.listdir('spidey_hands')\n",
    "spidey_hands"
   ]
  },
  {
   "cell_type": "code",
   "execution_count": 11,
   "metadata": {},
   "outputs": [
    {
     "data": {
      "text/plain": [
       "array([1., 1., 1., 1., 1., 1., 1., 1., 1., 1., 1., 1., 1., 1., 1., 1., 1.,\n",
       "       1., 1., 1., 1., 1., 1., 1., 1., 1., 1., 1., 1., 1., 1., 1., 1., 1.,\n",
       "       1., 1., 1., 1., 1.])"
      ]
     },
     "execution_count": 11,
     "metadata": {},
     "output_type": "execute_result"
    }
   ],
   "source": [
    "spidey_hand_labels = np.ones(len(spidey_hands))\n",
    "spidey_hand_labels"
   ]
  },
  {
   "cell_type": "code",
   "execution_count": null,
   "metadata": {},
   "outputs": [],
   "source": []
  },
  {
   "cell_type": "code",
   "execution_count": null,
   "metadata": {},
   "outputs": [],
   "source": []
  },
  {
   "cell_type": "code",
   "execution_count": 6,
   "metadata": {},
   "outputs": [
    {
     "data": {
      "text/plain": [
       "['Screenshot 2023-06-19 140319.png',\n",
       " 'Screenshot 2023-06-19 140324.png',\n",
       " 'Screenshot 2023-06-19 140331.png',\n",
       " 'Screenshot 2023-06-19 140338.png',\n",
       " 'Screenshot 2023-06-19 140343.png',\n",
       " 'Screenshot 2023-06-19 140348.png',\n",
       " 'Screenshot 2023-06-19 140356.png',\n",
       " 'Screenshot 2023-06-19 140400.png',\n",
       " 'Screenshot 2023-06-19 140404.png',\n",
       " 'Screenshot 2023-06-19 140409.png',\n",
       " 'Screenshot 2023-06-19 140414.png',\n",
       " 'Screenshot 2023-06-19 140420.png',\n",
       " 'Screenshot 2023-06-19 140425.png',\n",
       " 'Screenshot 2023-06-19 140430.png',\n",
       " 'Screenshot 2023-06-19 140435.png',\n",
       " 'Screenshot 2023-06-19 140440.png',\n",
       " 'Screenshot 2023-06-19 140445.png',\n",
       " 'Screenshot 2023-06-19 140502.png',\n",
       " 'Screenshot 2023-06-19 140506.png',\n",
       " 'Screenshot 2023-06-19 140510.png',\n",
       " 'Screenshot 2023-06-19 140516.png',\n",
       " 'Screenshot 2023-06-19 140522.png',\n",
       " 'Screenshot 2023-06-19 140526.png',\n",
       " 'Screenshot 2023-06-19 140531.png',\n",
       " 'Screenshot 2023-06-19 140536.png',\n",
       " 'Screenshot 2023-06-19 140539.png',\n",
       " 'Screenshot 2023-06-19 140543.png',\n",
       " 'Screenshot 2023-06-19 140547.png',\n",
       " 'Screenshot 2023-06-19 140550.png',\n",
       " 'Screenshot 2023-06-19 140553.png',\n",
       " 'Screenshot 2023-06-19 140556.png',\n",
       " 'Screenshot 2023-06-19 140600.png',\n",
       " 'Screenshot 2023-06-19 140603.png',\n",
       " 'Screenshot 2023-06-19 140607.png',\n",
       " 'Screenshot 2023-06-19 140611.png',\n",
       " 'Screenshot 2023-06-19 140614.png',\n",
       " 'Screenshot 2023-06-19 140617.png',\n",
       " 'Screenshot 2023-06-19 140620.png',\n",
       " 'Screenshot 2023-06-19 140624.png']"
      ]
     },
     "execution_count": 6,
     "metadata": {},
     "output_type": "execute_result"
    }
   ],
   "source": []
  },
  {
   "cell_type": "code",
   "execution_count": null,
   "metadata": {},
   "outputs": [],
   "source": []
  }
 ],
 "metadata": {
  "kernelspec": {
   "display_name": "Python 3",
   "language": "python",
   "name": "python3"
  },
  "language_info": {
   "codemirror_mode": {
    "name": "ipython",
    "version": 3
   },
   "file_extension": ".py",
   "mimetype": "text/x-python",
   "name": "python",
   "nbconvert_exporter": "python",
   "pygments_lexer": "ipython3",
   "version": "3.9.5"
  },
  "orig_nbformat": 4
 },
 "nbformat": 4,
 "nbformat_minor": 2
}

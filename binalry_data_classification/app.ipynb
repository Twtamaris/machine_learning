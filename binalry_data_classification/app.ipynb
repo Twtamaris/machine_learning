{
 "cells": [
  {
   "attachments": {},
   "cell_type": "markdown",
   "metadata": {},
   "source": [
    "# Step 1: Installation and Setup"
   ]
  },
  {
   "cell_type": "code",
   "execution_count": 1,
   "metadata": {},
   "outputs": [],
   "source": [
    "import tensorflow as tf\n",
    "import numpy as np\n",
    "import matplotlib.pyplot as plt\n",
    "import pandas as pd"
   ]
  },
  {
   "attachments": {},
   "cell_type": "markdown",
   "metadata": {},
   "source": [
    "# Step 2: Data Preprocessing"
   ]
  },
  {
   "cell_type": "code",
   "execution_count": 2,
   "metadata": {},
   "outputs": [],
   "source": [
    "# Import the dataset\n",
    "dataset = pd.read_csv('Churn_Modelling.csv') "
   ]
  },
  {
   "cell_type": "code",
   "execution_count": 3,
   "metadata": {},
   "outputs": [
    {
     "data": {
      "text/html": [
       "<div>\n",
       "<style scoped>\n",
       "    .dataframe tbody tr th:only-of-type {\n",
       "        vertical-align: middle;\n",
       "    }\n",
       "\n",
       "    .dataframe tbody tr th {\n",
       "        vertical-align: top;\n",
       "    }\n",
       "\n",
       "    .dataframe thead th {\n",
       "        text-align: right;\n",
       "    }\n",
       "</style>\n",
       "<table border=\"1\" class=\"dataframe\">\n",
       "  <thead>\n",
       "    <tr style=\"text-align: right;\">\n",
       "      <th></th>\n",
       "      <th>RowNumber</th>\n",
       "      <th>CustomerId</th>\n",
       "      <th>Surname</th>\n",
       "      <th>CreditScore</th>\n",
       "      <th>Geography</th>\n",
       "      <th>Gender</th>\n",
       "      <th>Age</th>\n",
       "      <th>Tenure</th>\n",
       "      <th>Balance</th>\n",
       "      <th>NumOfProducts</th>\n",
       "      <th>HasCrCard</th>\n",
       "      <th>IsActiveMember</th>\n",
       "      <th>EstimatedSalary</th>\n",
       "      <th>Exited</th>\n",
       "    </tr>\n",
       "  </thead>\n",
       "  <tbody>\n",
       "    <tr>\n",
       "      <th>0</th>\n",
       "      <td>1</td>\n",
       "      <td>15634602</td>\n",
       "      <td>Hargrave</td>\n",
       "      <td>619</td>\n",
       "      <td>France</td>\n",
       "      <td>Female</td>\n",
       "      <td>42</td>\n",
       "      <td>2</td>\n",
       "      <td>0.00</td>\n",
       "      <td>1</td>\n",
       "      <td>1</td>\n",
       "      <td>1</td>\n",
       "      <td>101348.88</td>\n",
       "      <td>1</td>\n",
       "    </tr>\n",
       "    <tr>\n",
       "      <th>1</th>\n",
       "      <td>2</td>\n",
       "      <td>15647311</td>\n",
       "      <td>Hill</td>\n",
       "      <td>608</td>\n",
       "      <td>Spain</td>\n",
       "      <td>Female</td>\n",
       "      <td>41</td>\n",
       "      <td>1</td>\n",
       "      <td>83807.86</td>\n",
       "      <td>1</td>\n",
       "      <td>0</td>\n",
       "      <td>1</td>\n",
       "      <td>112542.58</td>\n",
       "      <td>0</td>\n",
       "    </tr>\n",
       "    <tr>\n",
       "      <th>2</th>\n",
       "      <td>3</td>\n",
       "      <td>15619304</td>\n",
       "      <td>Onio</td>\n",
       "      <td>502</td>\n",
       "      <td>France</td>\n",
       "      <td>Female</td>\n",
       "      <td>42</td>\n",
       "      <td>8</td>\n",
       "      <td>159660.80</td>\n",
       "      <td>3</td>\n",
       "      <td>1</td>\n",
       "      <td>0</td>\n",
       "      <td>113931.57</td>\n",
       "      <td>1</td>\n",
       "    </tr>\n",
       "    <tr>\n",
       "      <th>3</th>\n",
       "      <td>4</td>\n",
       "      <td>15701354</td>\n",
       "      <td>Boni</td>\n",
       "      <td>699</td>\n",
       "      <td>France</td>\n",
       "      <td>Female</td>\n",
       "      <td>39</td>\n",
       "      <td>1</td>\n",
       "      <td>0.00</td>\n",
       "      <td>2</td>\n",
       "      <td>0</td>\n",
       "      <td>0</td>\n",
       "      <td>93826.63</td>\n",
       "      <td>0</td>\n",
       "    </tr>\n",
       "    <tr>\n",
       "      <th>4</th>\n",
       "      <td>5</td>\n",
       "      <td>15737888</td>\n",
       "      <td>Mitchell</td>\n",
       "      <td>850</td>\n",
       "      <td>Spain</td>\n",
       "      <td>Female</td>\n",
       "      <td>43</td>\n",
       "      <td>2</td>\n",
       "      <td>125510.82</td>\n",
       "      <td>1</td>\n",
       "      <td>1</td>\n",
       "      <td>1</td>\n",
       "      <td>79084.10</td>\n",
       "      <td>0</td>\n",
       "    </tr>\n",
       "  </tbody>\n",
       "</table>\n",
       "</div>"
      ],
      "text/plain": [
       "   RowNumber  CustomerId   Surname  CreditScore Geography  Gender  Age  \\\n",
       "0          1    15634602  Hargrave          619    France  Female   42   \n",
       "1          2    15647311      Hill          608     Spain  Female   41   \n",
       "2          3    15619304      Onio          502    France  Female   42   \n",
       "3          4    15701354      Boni          699    France  Female   39   \n",
       "4          5    15737888  Mitchell          850     Spain  Female   43   \n",
       "\n",
       "   Tenure    Balance  NumOfProducts  HasCrCard  IsActiveMember  \\\n",
       "0       2       0.00              1          1               1   \n",
       "1       1   83807.86              1          0               1   \n",
       "2       8  159660.80              3          1               0   \n",
       "3       1       0.00              2          0               0   \n",
       "4       2  125510.82              1          1               1   \n",
       "\n",
       "   EstimatedSalary  Exited  \n",
       "0        101348.88       1  \n",
       "1        112542.58       0  \n",
       "2        113931.57       1  \n",
       "3         93826.63       0  \n",
       "4         79084.10       0  "
      ]
     },
     "execution_count": 3,
     "metadata": {},
     "output_type": "execute_result"
    }
   ],
   "source": [
    "dataset.head()"
   ]
  },
  {
   "cell_type": "code",
   "execution_count": 4,
   "metadata": {},
   "outputs": [],
   "source": [
    "# Selecting the independent variables\n",
    "x = dataset.drop(columns=['RowNumber', 'CustomerId', 'Surname', 'Exited'], axis=1)"
   ]
  },
  {
   "cell_type": "code",
   "execution_count": 5,
   "metadata": {},
   "outputs": [],
   "source": [
    "y = dataset['Exited']\n",
    "# Customer is staying or leaving the bank"
   ]
  },
  {
   "cell_type": "code",
   "execution_count": 6,
   "metadata": {},
   "outputs": [
    {
     "data": {
      "text/plain": [
       "0    1\n",
       "1    0\n",
       "2    1\n",
       "3    0\n",
       "4    0\n",
       "Name: Exited, dtype: int64"
      ]
     },
     "execution_count": 6,
     "metadata": {},
     "output_type": "execute_result"
    }
   ],
   "source": [
    "y.head()"
   ]
  },
  {
   "cell_type": "code",
   "execution_count": 7,
   "metadata": {},
   "outputs": [
    {
     "data": {
      "text/html": [
       "<div>\n",
       "<style scoped>\n",
       "    .dataframe tbody tr th:only-of-type {\n",
       "        vertical-align: middle;\n",
       "    }\n",
       "\n",
       "    .dataframe tbody tr th {\n",
       "        vertical-align: top;\n",
       "    }\n",
       "\n",
       "    .dataframe thead th {\n",
       "        text-align: right;\n",
       "    }\n",
       "</style>\n",
       "<table border=\"1\" class=\"dataframe\">\n",
       "  <thead>\n",
       "    <tr style=\"text-align: right;\">\n",
       "      <th></th>\n",
       "      <th>CreditScore</th>\n",
       "      <th>Geography</th>\n",
       "      <th>Gender</th>\n",
       "      <th>Age</th>\n",
       "      <th>Tenure</th>\n",
       "      <th>Balance</th>\n",
       "      <th>NumOfProducts</th>\n",
       "      <th>HasCrCard</th>\n",
       "      <th>IsActiveMember</th>\n",
       "      <th>EstimatedSalary</th>\n",
       "    </tr>\n",
       "  </thead>\n",
       "  <tbody>\n",
       "    <tr>\n",
       "      <th>0</th>\n",
       "      <td>619</td>\n",
       "      <td>France</td>\n",
       "      <td>Female</td>\n",
       "      <td>42</td>\n",
       "      <td>2</td>\n",
       "      <td>0.00</td>\n",
       "      <td>1</td>\n",
       "      <td>1</td>\n",
       "      <td>1</td>\n",
       "      <td>101348.88</td>\n",
       "    </tr>\n",
       "    <tr>\n",
       "      <th>1</th>\n",
       "      <td>608</td>\n",
       "      <td>Spain</td>\n",
       "      <td>Female</td>\n",
       "      <td>41</td>\n",
       "      <td>1</td>\n",
       "      <td>83807.86</td>\n",
       "      <td>1</td>\n",
       "      <td>0</td>\n",
       "      <td>1</td>\n",
       "      <td>112542.58</td>\n",
       "    </tr>\n",
       "    <tr>\n",
       "      <th>2</th>\n",
       "      <td>502</td>\n",
       "      <td>France</td>\n",
       "      <td>Female</td>\n",
       "      <td>42</td>\n",
       "      <td>8</td>\n",
       "      <td>159660.80</td>\n",
       "      <td>3</td>\n",
       "      <td>1</td>\n",
       "      <td>0</td>\n",
       "      <td>113931.57</td>\n",
       "    </tr>\n",
       "    <tr>\n",
       "      <th>3</th>\n",
       "      <td>699</td>\n",
       "      <td>France</td>\n",
       "      <td>Female</td>\n",
       "      <td>39</td>\n",
       "      <td>1</td>\n",
       "      <td>0.00</td>\n",
       "      <td>2</td>\n",
       "      <td>0</td>\n",
       "      <td>0</td>\n",
       "      <td>93826.63</td>\n",
       "    </tr>\n",
       "    <tr>\n",
       "      <th>4</th>\n",
       "      <td>850</td>\n",
       "      <td>Spain</td>\n",
       "      <td>Female</td>\n",
       "      <td>43</td>\n",
       "      <td>2</td>\n",
       "      <td>125510.82</td>\n",
       "      <td>1</td>\n",
       "      <td>1</td>\n",
       "      <td>1</td>\n",
       "      <td>79084.10</td>\n",
       "    </tr>\n",
       "  </tbody>\n",
       "</table>\n",
       "</div>"
      ],
      "text/plain": [
       "   CreditScore Geography  Gender  Age  Tenure    Balance  NumOfProducts  \\\n",
       "0          619    France  Female   42       2       0.00              1   \n",
       "1          608     Spain  Female   41       1   83807.86              1   \n",
       "2          502    France  Female   42       8  159660.80              3   \n",
       "3          699    France  Female   39       1       0.00              2   \n",
       "4          850     Spain  Female   43       2  125510.82              1   \n",
       "\n",
       "   HasCrCard  IsActiveMember  EstimatedSalary  \n",
       "0          1               1        101348.88  \n",
       "1          0               1        112542.58  \n",
       "2          1               0        113931.57  \n",
       "3          0               0         93826.63  \n",
       "4          1               1         79084.10  "
      ]
     },
     "execution_count": 7,
     "metadata": {},
     "output_type": "execute_result"
    }
   ],
   "source": [
    "x.head()"
   ]
  },
  {
   "cell_type": "code",
   "execution_count": 8,
   "metadata": {},
   "outputs": [
    {
     "name": "stdout",
     "output_type": "stream",
     "text": [
      "<class 'pandas.core.frame.DataFrame'>\n",
      "RangeIndex: 10000 entries, 0 to 9999\n",
      "Data columns (total 10 columns):\n",
      " #   Column           Non-Null Count  Dtype  \n",
      "---  ------           --------------  -----  \n",
      " 0   CreditScore      10000 non-null  int64  \n",
      " 1   Geography        10000 non-null  object \n",
      " 2   Gender           10000 non-null  object \n",
      " 3   Age              10000 non-null  int64  \n",
      " 4   Tenure           10000 non-null  int64  \n",
      " 5   Balance          10000 non-null  float64\n",
      " 6   NumOfProducts    10000 non-null  int64  \n",
      " 7   HasCrCard        10000 non-null  int64  \n",
      " 8   IsActiveMember   10000 non-null  int64  \n",
      " 9   EstimatedSalary  10000 non-null  float64\n",
      "dtypes: float64(2), int64(6), object(2)\n",
      "memory usage: 781.4+ KB\n"
     ]
    }
   ],
   "source": [
    "x.info()"
   ]
  },
  {
   "cell_type": "code",
   "execution_count": 9,
   "metadata": {},
   "outputs": [
    {
     "data": {
      "text/plain": [
       "(array(['Female', 'Male'], dtype=object),\n",
       " array(['France', 'Spain', 'Germany'], dtype=object))"
      ]
     },
     "execution_count": 9,
     "metadata": {},
     "output_type": "execute_result"
    }
   ],
   "source": [
    "x.Gender.unique(), x.Geography.unique()"
   ]
  },
  {
   "cell_type": "code",
   "execution_count": 10,
   "metadata": {},
   "outputs": [],
   "source": [
    "# Perform one hot encoding on the dataset\n",
    "x = pd.get_dummies(x, columns=['Gender', \"Geography\"], drop_first=True)\n"
   ]
  },
  {
   "cell_type": "code",
   "execution_count": 11,
   "metadata": {},
   "outputs": [
    {
     "data": {
      "text/html": [
       "<div>\n",
       "<style scoped>\n",
       "    .dataframe tbody tr th:only-of-type {\n",
       "        vertical-align: middle;\n",
       "    }\n",
       "\n",
       "    .dataframe tbody tr th {\n",
       "        vertical-align: top;\n",
       "    }\n",
       "\n",
       "    .dataframe thead th {\n",
       "        text-align: right;\n",
       "    }\n",
       "</style>\n",
       "<table border=\"1\" class=\"dataframe\">\n",
       "  <thead>\n",
       "    <tr style=\"text-align: right;\">\n",
       "      <th></th>\n",
       "      <th>CreditScore</th>\n",
       "      <th>Age</th>\n",
       "      <th>Tenure</th>\n",
       "      <th>Balance</th>\n",
       "      <th>NumOfProducts</th>\n",
       "      <th>HasCrCard</th>\n",
       "      <th>IsActiveMember</th>\n",
       "      <th>EstimatedSalary</th>\n",
       "      <th>Gender_Male</th>\n",
       "      <th>Geography_Germany</th>\n",
       "      <th>Geography_Spain</th>\n",
       "    </tr>\n",
       "  </thead>\n",
       "  <tbody>\n",
       "    <tr>\n",
       "      <th>0</th>\n",
       "      <td>619</td>\n",
       "      <td>42</td>\n",
       "      <td>2</td>\n",
       "      <td>0.00</td>\n",
       "      <td>1</td>\n",
       "      <td>1</td>\n",
       "      <td>1</td>\n",
       "      <td>101348.88</td>\n",
       "      <td>0</td>\n",
       "      <td>0</td>\n",
       "      <td>0</td>\n",
       "    </tr>\n",
       "    <tr>\n",
       "      <th>1</th>\n",
       "      <td>608</td>\n",
       "      <td>41</td>\n",
       "      <td>1</td>\n",
       "      <td>83807.86</td>\n",
       "      <td>1</td>\n",
       "      <td>0</td>\n",
       "      <td>1</td>\n",
       "      <td>112542.58</td>\n",
       "      <td>0</td>\n",
       "      <td>0</td>\n",
       "      <td>1</td>\n",
       "    </tr>\n",
       "    <tr>\n",
       "      <th>2</th>\n",
       "      <td>502</td>\n",
       "      <td>42</td>\n",
       "      <td>8</td>\n",
       "      <td>159660.80</td>\n",
       "      <td>3</td>\n",
       "      <td>1</td>\n",
       "      <td>0</td>\n",
       "      <td>113931.57</td>\n",
       "      <td>0</td>\n",
       "      <td>0</td>\n",
       "      <td>0</td>\n",
       "    </tr>\n",
       "    <tr>\n",
       "      <th>3</th>\n",
       "      <td>699</td>\n",
       "      <td>39</td>\n",
       "      <td>1</td>\n",
       "      <td>0.00</td>\n",
       "      <td>2</td>\n",
       "      <td>0</td>\n",
       "      <td>0</td>\n",
       "      <td>93826.63</td>\n",
       "      <td>0</td>\n",
       "      <td>0</td>\n",
       "      <td>0</td>\n",
       "    </tr>\n",
       "    <tr>\n",
       "      <th>4</th>\n",
       "      <td>850</td>\n",
       "      <td>43</td>\n",
       "      <td>2</td>\n",
       "      <td>125510.82</td>\n",
       "      <td>1</td>\n",
       "      <td>1</td>\n",
       "      <td>1</td>\n",
       "      <td>79084.10</td>\n",
       "      <td>0</td>\n",
       "      <td>0</td>\n",
       "      <td>1</td>\n",
       "    </tr>\n",
       "  </tbody>\n",
       "</table>\n",
       "</div>"
      ],
      "text/plain": [
       "   CreditScore  Age  Tenure    Balance  NumOfProducts  HasCrCard  \\\n",
       "0          619   42       2       0.00              1          1   \n",
       "1          608   41       1   83807.86              1          0   \n",
       "2          502   42       8  159660.80              3          1   \n",
       "3          699   39       1       0.00              2          0   \n",
       "4          850   43       2  125510.82              1          1   \n",
       "\n",
       "   IsActiveMember  EstimatedSalary  Gender_Male  Geography_Germany  \\\n",
       "0               1        101348.88            0                  0   \n",
       "1               1        112542.58            0                  0   \n",
       "2               0        113931.57            0                  0   \n",
       "3               0         93826.63            0                  0   \n",
       "4               1         79084.10            0                  0   \n",
       "\n",
       "   Geography_Spain  \n",
       "0                0  \n",
       "1                1  \n",
       "2                0  \n",
       "3                0  \n",
       "4                1  "
      ]
     },
     "execution_count": 11,
     "metadata": {},
     "output_type": "execute_result"
    }
   ],
   "source": [
    "x.head()"
   ]
  },
  {
   "cell_type": "code",
   "execution_count": 12,
   "metadata": {},
   "outputs": [],
   "source": [
    "# Split the dataset into training and testing set\n",
    "from sklearn.model_selection import train_test_split\n"
   ]
  },
  {
   "cell_type": "code",
   "execution_count": 13,
   "metadata": {},
   "outputs": [],
   "source": [
    "x_train, x_test, y_train, y_test = train_test_split(x, y, test_size=0.2, random_state=0)"
   ]
  },
  {
   "cell_type": "code",
   "execution_count": 14,
   "metadata": {},
   "outputs": [
    {
     "data": {
      "text/plain": [
       "((10000, 11), (8000, 11), (2000, 11))"
      ]
     },
     "execution_count": 14,
     "metadata": {},
     "output_type": "execute_result"
    }
   ],
   "source": [
    "x.shape, x_train.shape, x_test.shape"
   ]
  },
  {
   "cell_type": "code",
   "execution_count": 15,
   "metadata": {},
   "outputs": [
    {
     "data": {
      "text/html": [
       "<div>\n",
       "<style scoped>\n",
       "    .dataframe tbody tr th:only-of-type {\n",
       "        vertical-align: middle;\n",
       "    }\n",
       "\n",
       "    .dataframe tbody tr th {\n",
       "        vertical-align: top;\n",
       "    }\n",
       "\n",
       "    .dataframe thead th {\n",
       "        text-align: right;\n",
       "    }\n",
       "</style>\n",
       "<table border=\"1\" class=\"dataframe\">\n",
       "  <thead>\n",
       "    <tr style=\"text-align: right;\">\n",
       "      <th></th>\n",
       "      <th>CreditScore</th>\n",
       "      <th>Age</th>\n",
       "      <th>Tenure</th>\n",
       "      <th>Balance</th>\n",
       "      <th>NumOfProducts</th>\n",
       "      <th>HasCrCard</th>\n",
       "      <th>IsActiveMember</th>\n",
       "      <th>EstimatedSalary</th>\n",
       "      <th>Gender_Male</th>\n",
       "      <th>Geography_Germany</th>\n",
       "      <th>Geography_Spain</th>\n",
       "    </tr>\n",
       "  </thead>\n",
       "  <tbody>\n",
       "    <tr>\n",
       "      <th>7389</th>\n",
       "      <td>667</td>\n",
       "      <td>34</td>\n",
       "      <td>5</td>\n",
       "      <td>0.00</td>\n",
       "      <td>2</td>\n",
       "      <td>1</td>\n",
       "      <td>0</td>\n",
       "      <td>163830.64</td>\n",
       "      <td>0</td>\n",
       "      <td>0</td>\n",
       "      <td>1</td>\n",
       "    </tr>\n",
       "    <tr>\n",
       "      <th>9275</th>\n",
       "      <td>427</td>\n",
       "      <td>42</td>\n",
       "      <td>1</td>\n",
       "      <td>75681.52</td>\n",
       "      <td>1</td>\n",
       "      <td>1</td>\n",
       "      <td>1</td>\n",
       "      <td>57098.00</td>\n",
       "      <td>1</td>\n",
       "      <td>1</td>\n",
       "      <td>0</td>\n",
       "    </tr>\n",
       "    <tr>\n",
       "      <th>2995</th>\n",
       "      <td>535</td>\n",
       "      <td>29</td>\n",
       "      <td>2</td>\n",
       "      <td>112367.34</td>\n",
       "      <td>1</td>\n",
       "      <td>1</td>\n",
       "      <td>0</td>\n",
       "      <td>185630.76</td>\n",
       "      <td>0</td>\n",
       "      <td>0</td>\n",
       "      <td>0</td>\n",
       "    </tr>\n",
       "    <tr>\n",
       "      <th>5316</th>\n",
       "      <td>654</td>\n",
       "      <td>40</td>\n",
       "      <td>5</td>\n",
       "      <td>105683.63</td>\n",
       "      <td>1</td>\n",
       "      <td>1</td>\n",
       "      <td>0</td>\n",
       "      <td>173617.09</td>\n",
       "      <td>1</td>\n",
       "      <td>0</td>\n",
       "      <td>1</td>\n",
       "    </tr>\n",
       "    <tr>\n",
       "      <th>356</th>\n",
       "      <td>850</td>\n",
       "      <td>57</td>\n",
       "      <td>8</td>\n",
       "      <td>126776.30</td>\n",
       "      <td>2</td>\n",
       "      <td>1</td>\n",
       "      <td>1</td>\n",
       "      <td>132298.49</td>\n",
       "      <td>0</td>\n",
       "      <td>0</td>\n",
       "      <td>1</td>\n",
       "    </tr>\n",
       "  </tbody>\n",
       "</table>\n",
       "</div>"
      ],
      "text/plain": [
       "      CreditScore  Age  Tenure    Balance  NumOfProducts  HasCrCard  \\\n",
       "7389          667   34       5       0.00              2          1   \n",
       "9275          427   42       1   75681.52              1          1   \n",
       "2995          535   29       2  112367.34              1          1   \n",
       "5316          654   40       5  105683.63              1          1   \n",
       "356           850   57       8  126776.30              2          1   \n",
       "\n",
       "      IsActiveMember  EstimatedSalary  Gender_Male  Geography_Germany  \\\n",
       "7389               0        163830.64            0                  0   \n",
       "9275               1         57098.00            1                  1   \n",
       "2995               0        185630.76            0                  0   \n",
       "5316               0        173617.09            1                  0   \n",
       "356                1        132298.49            0                  0   \n",
       "\n",
       "      Geography_Spain  \n",
       "7389                1  \n",
       "9275                0  \n",
       "2995                0  \n",
       "5316                1  \n",
       "356                 1  "
      ]
     },
     "execution_count": 15,
     "metadata": {},
     "output_type": "execute_result"
    }
   ],
   "source": [
    "x_train.head()"
   ]
  },
  {
   "cell_type": "code",
   "execution_count": 16,
   "metadata": {},
   "outputs": [],
   "source": [
    "# import the standard scaler\n",
    "from sklearn.preprocessing import StandardScaler\n",
    "sc = StandardScaler()"
   ]
  },
  {
   "cell_type": "code",
   "execution_count": 17,
   "metadata": {},
   "outputs": [],
   "source": [
    "x_train = sc.fit_transform(x_train)\n",
    "x_test = sc.transform(x_test)"
   ]
  },
  {
   "cell_type": "code",
   "execution_count": 18,
   "metadata": {},
   "outputs": [
    {
     "data": {
      "text/plain": [
       "array([[ 0.16958176, -0.46460796,  0.00666099, ..., -1.09168714,\n",
       "        -0.5698444 ,  1.74309049],\n",
       "       [-2.30455945,  0.30102557, -1.37744033, ...,  0.91601335,\n",
       "         1.75486502, -0.57369368],\n",
       "       [-1.19119591, -0.94312892, -1.031415  , ..., -1.09168714,\n",
       "        -0.5698444 , -0.57369368],\n",
       "       ...,\n",
       "       [ 0.9015152 , -0.36890377,  0.00666099, ...,  0.91601335,\n",
       "        -0.5698444 , -0.57369368],\n",
       "       [-0.62420521, -0.08179119,  1.39076231, ..., -1.09168714,\n",
       "        -0.5698444 ,  1.74309049],\n",
       "       [-0.28401079,  0.87525072, -1.37744033, ..., -1.09168714,\n",
       "         1.75486502, -0.57369368]])"
      ]
     },
     "execution_count": 18,
     "metadata": {},
     "output_type": "execute_result"
    }
   ],
   "source": [
    "x_train"
   ]
  },
  {
   "cell_type": "code",
   "execution_count": 19,
   "metadata": {},
   "outputs": [
    {
     "data": {
      "text/plain": [
       "array([[-0.55204276, -0.36890377,  1.04473698, ..., -1.09168714,\n",
       "         1.75486502, -0.57369368],\n",
       "       [-1.31490297,  0.10961719, -1.031415  , ..., -1.09168714,\n",
       "        -0.5698444 , -0.57369368],\n",
       "       [ 0.57162971,  0.30102557,  1.04473698, ..., -1.09168714,\n",
       "        -0.5698444 ,  1.74309049],\n",
       "       ...,\n",
       "       [-0.74791227, -0.27319958, -1.37744033, ...,  0.91601335,\n",
       "        -0.5698444 ,  1.74309049],\n",
       "       [-0.00566991, -0.46460796, -0.33936434, ...,  0.91601335,\n",
       "         1.75486502, -0.57369368],\n",
       "       [-0.79945688, -0.84742473,  1.04473698, ...,  0.91601335,\n",
       "         1.75486502, -0.57369368]])"
      ]
     },
     "execution_count": 19,
     "metadata": {},
     "output_type": "execute_result"
    }
   ],
   "source": [
    "x_test"
   ]
  },
  {
   "attachments": {},
   "cell_type": "markdown",
   "metadata": {},
   "source": [
    "# Step 3: Model Building"
   ]
  },
  {
   "cell_type": "code",
   "execution_count": 20,
   "metadata": {},
   "outputs": [],
   "source": [
    "# Creating the object(Initializing the ANN)(ANN = Artificial Neural Network)\n",
    "model = tf.keras.models.Sequential()"
   ]
  },
  {
   "cell_type": "code",
   "execution_count": 21,
   "metadata": {},
   "outputs": [
    {
     "name": "stdout",
     "output_type": "stream",
     "text": [
      "<keras.engine.sequential.Sequential object at 0x0000024731BC3850>\n"
     ]
    }
   ],
   "source": [
    "print(model)"
   ]
  },
  {
   "cell_type": "code",
   "execution_count": 22,
   "metadata": {},
   "outputs": [],
   "source": [
    "# Adding the input layer and the first hidden layer\n",
    "# 1) units = 6 (number of neurons in the first hidden layer)\n",
    "# 2) activation = 'relu' (activation function of the first hidden layer)\n",
    "# 3) input_shape = (11,) (number of independent variables)\n",
    "\n",
    "model.add(tf.keras.layers.Dense(units=6, activation='relu', input_shape=(11,)))\n",
    "\n",
    "# Adding the second hidden layer\n",
    "model.add(tf.keras.layers.Dense(units=6, activation='relu'))\n"
   ]
  },
  {
   "cell_type": "code",
   "execution_count": 23,
   "metadata": {},
   "outputs": [],
   "source": [
    "# Adding the output layer\n",
    "# 1) units = 1 (number of neurons in the output layer)\n",
    "# 2) activation = 'sigmoid' (activation function of the output layer)\n",
    "model.add(tf.keras.layers.Dense(units=1, activation='sigmoid'))"
   ]
  },
  {
   "cell_type": "code",
   "execution_count": 24,
   "metadata": {},
   "outputs": [],
   "source": [
    "# Compiling the model\n",
    "# 1) optimizer = 'adam' (algorithm to find the optimal set of weights in the neural networks)\n",
    "# 2) loss = 'binary_crossentropy' (loss function within adam optimizer)\n",
    "# 3) metrics = ['accuracy'] (performance metric to judge the model)\n",
    "\n",
    "model.compile(optimizer='adam', loss='binary_crossentropy', metrics=['accuracy'])"
   ]
  },
  {
   "cell_type": "code",
   "execution_count": 25,
   "metadata": {},
   "outputs": [
    {
     "name": "stdout",
     "output_type": "stream",
     "text": [
      "Model: \"sequential\"\n",
      "_________________________________________________________________\n",
      " Layer (type)                Output Shape              Param #   \n",
      "=================================================================\n",
      " dense (Dense)               (None, 6)                 72        \n",
      "                                                                 \n",
      " dense_1 (Dense)             (None, 6)                 42        \n",
      "                                                                 \n",
      " dense_2 (Dense)             (None, 1)                 7         \n",
      "                                                                 \n",
      "=================================================================\n",
      "Total params: 121\n",
      "Trainable params: 121\n",
      "Non-trainable params: 0\n",
      "_________________________________________________________________\n"
     ]
    }
   ],
   "source": [
    "model.summary()"
   ]
  },
  {
   "attachments": {},
   "cell_type": "markdown",
   "metadata": {},
   "source": [
    "# Step 4: Model Training"
   ]
  },
  {
   "cell_type": "code",
   "execution_count": 26,
   "metadata": {},
   "outputs": [
    {
     "data": {
      "text/plain": [
       "7389    0\n",
       "9275    0\n",
       "2995    0\n",
       "5316    0\n",
       "356     0\n",
       "       ..\n",
       "9225    0\n",
       "4859    0\n",
       "3264    0\n",
       "9845    0\n",
       "2732    1\n",
       "Name: Exited, Length: 8000, dtype: int64"
      ]
     },
     "execution_count": 26,
     "metadata": {},
     "output_type": "execute_result"
    }
   ],
   "source": [
    "y_train"
   ]
  },
  {
   "cell_type": "code",
   "execution_count": 27,
   "metadata": {},
   "outputs": [],
   "source": [
    "# since it it is Series we need to convert it into numpy array\n",
    "y_train = y_train.to_numpy()"
   ]
  },
  {
   "cell_type": "code",
   "execution_count": 28,
   "metadata": {},
   "outputs": [
    {
     "name": "stdout",
     "output_type": "stream",
     "text": [
      "Epoch 1/50\n",
      "225/225 [==============================] - 1s 2ms/step - loss: 0.6091 - accuracy: 0.7163 - val_loss: 0.5119 - val_accuracy: 0.7950\n",
      "Epoch 2/50\n",
      "225/225 [==============================] - 0s 1ms/step - loss: 0.4831 - accuracy: 0.7964 - val_loss: 0.4541 - val_accuracy: 0.7975\n",
      "Epoch 3/50\n",
      "225/225 [==============================] - 0s 1ms/step - loss: 0.4490 - accuracy: 0.8008 - val_loss: 0.4301 - val_accuracy: 0.8050\n",
      "Epoch 4/50\n",
      "225/225 [==============================] - 0s 1ms/step - loss: 0.4343 - accuracy: 0.8085 - val_loss: 0.4159 - val_accuracy: 0.8175\n",
      "Epoch 5/50\n",
      "225/225 [==============================] - 0s 1ms/step - loss: 0.4234 - accuracy: 0.8197 - val_loss: 0.4041 - val_accuracy: 0.8350\n",
      "Epoch 6/50\n",
      "225/225 [==============================] - 0s 2ms/step - loss: 0.4168 - accuracy: 0.8258 - val_loss: 0.3966 - val_accuracy: 0.8388\n",
      "Epoch 7/50\n",
      "225/225 [==============================] - 0s 1ms/step - loss: 0.4118 - accuracy: 0.8286 - val_loss: 0.3904 - val_accuracy: 0.8425\n",
      "Epoch 8/50\n",
      "225/225 [==============================] - 0s 1ms/step - loss: 0.4073 - accuracy: 0.8318 - val_loss: 0.3844 - val_accuracy: 0.8450\n",
      "Epoch 9/50\n",
      "225/225 [==============================] - 0s 1ms/step - loss: 0.4026 - accuracy: 0.8336 - val_loss: 0.3785 - val_accuracy: 0.8450\n",
      "Epoch 10/50\n",
      "225/225 [==============================] - 0s 1ms/step - loss: 0.3972 - accuracy: 0.8357 - val_loss: 0.3730 - val_accuracy: 0.8438\n",
      "Epoch 11/50\n",
      "225/225 [==============================] - 0s 1ms/step - loss: 0.3903 - accuracy: 0.8392 - val_loss: 0.3619 - val_accuracy: 0.8600\n",
      "Epoch 12/50\n",
      "225/225 [==============================] - 0s 2ms/step - loss: 0.3816 - accuracy: 0.8426 - val_loss: 0.3519 - val_accuracy: 0.8650\n",
      "Epoch 13/50\n",
      "225/225 [==============================] - 0s 1ms/step - loss: 0.3732 - accuracy: 0.8461 - val_loss: 0.3431 - val_accuracy: 0.8725\n",
      "Epoch 14/50\n",
      "225/225 [==============================] - 0s 1ms/step - loss: 0.3652 - accuracy: 0.8508 - val_loss: 0.3376 - val_accuracy: 0.8712\n",
      "Epoch 15/50\n",
      "225/225 [==============================] - 0s 1ms/step - loss: 0.3594 - accuracy: 0.8518 - val_loss: 0.3339 - val_accuracy: 0.8700\n",
      "Epoch 16/50\n",
      "225/225 [==============================] - 0s 1ms/step - loss: 0.3555 - accuracy: 0.8554 - val_loss: 0.3316 - val_accuracy: 0.8763\n",
      "Epoch 17/50\n",
      "225/225 [==============================] - 0s 1ms/step - loss: 0.3525 - accuracy: 0.8565 - val_loss: 0.3291 - val_accuracy: 0.8750\n",
      "Epoch 18/50\n",
      "225/225 [==============================] - 0s 1ms/step - loss: 0.3503 - accuracy: 0.8581 - val_loss: 0.3282 - val_accuracy: 0.8775\n",
      "Epoch 19/50\n",
      "225/225 [==============================] - 0s 1ms/step - loss: 0.3491 - accuracy: 0.8589 - val_loss: 0.3274 - val_accuracy: 0.8775\n",
      "Epoch 20/50\n",
      "225/225 [==============================] - 0s 1ms/step - loss: 0.3475 - accuracy: 0.8606 - val_loss: 0.3273 - val_accuracy: 0.8788\n",
      "Epoch 21/50\n",
      "225/225 [==============================] - 0s 1ms/step - loss: 0.3466 - accuracy: 0.8596 - val_loss: 0.3263 - val_accuracy: 0.8763\n",
      "Epoch 22/50\n",
      "225/225 [==============================] - 0s 1ms/step - loss: 0.3460 - accuracy: 0.8612 - val_loss: 0.3253 - val_accuracy: 0.8763\n",
      "Epoch 23/50\n",
      "225/225 [==============================] - 0s 1ms/step - loss: 0.3453 - accuracy: 0.8603 - val_loss: 0.3243 - val_accuracy: 0.8763\n",
      "Epoch 24/50\n",
      "225/225 [==============================] - 0s 1ms/step - loss: 0.3451 - accuracy: 0.8596 - val_loss: 0.3237 - val_accuracy: 0.8737\n",
      "Epoch 25/50\n",
      "225/225 [==============================] - 0s 1ms/step - loss: 0.3438 - accuracy: 0.8597 - val_loss: 0.3230 - val_accuracy: 0.8737\n",
      "Epoch 26/50\n",
      "225/225 [==============================] - 0s 2ms/step - loss: 0.3436 - accuracy: 0.8568 - val_loss: 0.3236 - val_accuracy: 0.8725\n",
      "Epoch 27/50\n",
      "225/225 [==============================] - 0s 1ms/step - loss: 0.3435 - accuracy: 0.8604 - val_loss: 0.3226 - val_accuracy: 0.8775\n",
      "Epoch 28/50\n",
      "225/225 [==============================] - 0s 1ms/step - loss: 0.3432 - accuracy: 0.8606 - val_loss: 0.3222 - val_accuracy: 0.8737\n",
      "Epoch 29/50\n",
      "225/225 [==============================] - 0s 1ms/step - loss: 0.3424 - accuracy: 0.8601 - val_loss: 0.3234 - val_accuracy: 0.8725\n",
      "Epoch 30/50\n",
      "225/225 [==============================] - 0s 1ms/step - loss: 0.3421 - accuracy: 0.8592 - val_loss: 0.3233 - val_accuracy: 0.8712\n",
      "Epoch 31/50\n",
      "225/225 [==============================] - 0s 1ms/step - loss: 0.3422 - accuracy: 0.8606 - val_loss: 0.3217 - val_accuracy: 0.8712\n",
      "Epoch 32/50\n",
      "225/225 [==============================] - 0s 1ms/step - loss: 0.3416 - accuracy: 0.8608 - val_loss: 0.3208 - val_accuracy: 0.8737\n",
      "Epoch 33/50\n",
      "225/225 [==============================] - 0s 1ms/step - loss: 0.3419 - accuracy: 0.8607 - val_loss: 0.3206 - val_accuracy: 0.8725\n",
      "Epoch 34/50\n",
      "225/225 [==============================] - 0s 1ms/step - loss: 0.3413 - accuracy: 0.8611 - val_loss: 0.3223 - val_accuracy: 0.8700\n",
      "Epoch 35/50\n",
      "225/225 [==============================] - 0s 1ms/step - loss: 0.3408 - accuracy: 0.8596 - val_loss: 0.3229 - val_accuracy: 0.8700\n",
      "Epoch 36/50\n",
      "225/225 [==============================] - 0s 1ms/step - loss: 0.3407 - accuracy: 0.8606 - val_loss: 0.3214 - val_accuracy: 0.8763\n",
      "Epoch 37/50\n",
      "225/225 [==============================] - 0s 1ms/step - loss: 0.3403 - accuracy: 0.8607 - val_loss: 0.3213 - val_accuracy: 0.8775\n",
      "Epoch 38/50\n",
      "225/225 [==============================] - 0s 1ms/step - loss: 0.3402 - accuracy: 0.8611 - val_loss: 0.3207 - val_accuracy: 0.8788\n",
      "Epoch 39/50\n",
      "225/225 [==============================] - 0s 1ms/step - loss: 0.3399 - accuracy: 0.8617 - val_loss: 0.3243 - val_accuracy: 0.8700\n",
      "Epoch 40/50\n",
      "225/225 [==============================] - 0s 1ms/step - loss: 0.3399 - accuracy: 0.8607 - val_loss: 0.3218 - val_accuracy: 0.8725\n",
      "Epoch 41/50\n",
      "225/225 [==============================] - 0s 1ms/step - loss: 0.3397 - accuracy: 0.8604 - val_loss: 0.3208 - val_accuracy: 0.8763\n",
      "Epoch 42/50\n",
      "225/225 [==============================] - 0s 2ms/step - loss: 0.3391 - accuracy: 0.8619 - val_loss: 0.3226 - val_accuracy: 0.8763\n",
      "Epoch 43/50\n",
      "225/225 [==============================] - 0s 2ms/step - loss: 0.3391 - accuracy: 0.8621 - val_loss: 0.3232 - val_accuracy: 0.8712\n",
      "Epoch 44/50\n",
      "225/225 [==============================] - 1s 2ms/step - loss: 0.3393 - accuracy: 0.8610 - val_loss: 0.3217 - val_accuracy: 0.8750\n",
      "Epoch 45/50\n",
      "225/225 [==============================] - 0s 2ms/step - loss: 0.3392 - accuracy: 0.8614 - val_loss: 0.3225 - val_accuracy: 0.8687\n",
      "Epoch 46/50\n",
      "225/225 [==============================] - 1s 3ms/step - loss: 0.3387 - accuracy: 0.8626 - val_loss: 0.3229 - val_accuracy: 0.8700\n",
      "Epoch 47/50\n",
      "225/225 [==============================] - 0s 2ms/step - loss: 0.3389 - accuracy: 0.8612 - val_loss: 0.3223 - val_accuracy: 0.8750\n",
      "Epoch 48/50\n",
      "225/225 [==============================] - 1s 2ms/step - loss: 0.3387 - accuracy: 0.8610 - val_loss: 0.3225 - val_accuracy: 0.8725\n",
      "Epoch 49/50\n",
      "225/225 [==============================] - 0s 2ms/step - loss: 0.3387 - accuracy: 0.8608 - val_loss: 0.3235 - val_accuracy: 0.8712\n",
      "Epoch 50/50\n",
      "225/225 [==============================] - 0s 2ms/step - loss: 0.3381 - accuracy: 0.8624 - val_loss: 0.3222 - val_accuracy: 0.8712\n"
     ]
    },
    {
     "data": {
      "text/plain": [
       "<keras.callbacks.History at 0x24731c652b0>"
      ]
     },
     "execution_count": 28,
     "metadata": {},
     "output_type": "execute_result"
    }
   ],
   "source": [
    "model.fit(x_train, y_train, epochs=50, batch_size=32, validation_split=0.1)"
   ]
  },
  {
   "attachments": {},
   "cell_type": "markdown",
   "metadata": {},
   "source": [
    "# Step 5: Model Evaluation and Prediction"
   ]
  },
  {
   "cell_type": "code",
   "execution_count": 29,
   "metadata": {},
   "outputs": [
    {
     "name": "stdout",
     "output_type": "stream",
     "text": [
      "63/63 [==============================] - 1s 2ms/step - loss: 0.3306 - accuracy: 0.8630\n"
     ]
    }
   ],
   "source": [
    "# Evaluate the model\n",
    "test_loss, test_accuracy = model.evaluate(x_test, y_test)"
   ]
  },
  {
   "cell_type": "code",
   "execution_count": 30,
   "metadata": {},
   "outputs": [
    {
     "data": {
      "text/plain": [
       "(0.33064165711402893, 0.8629999756813049)"
      ]
     },
     "execution_count": 30,
     "metadata": {},
     "output_type": "execute_result"
    }
   ],
   "source": [
    "test_loss, test_accuracy"
   ]
  },
  {
   "cell_type": "code",
   "execution_count": 31,
   "metadata": {},
   "outputs": [
    {
     "name": "stdout",
     "output_type": "stream",
     "text": [
      "63/63 [==============================] - 0s 1ms/step\n"
     ]
    }
   ],
   "source": [
    "y_pred = model.predict(x_test)"
   ]
  },
  {
   "cell_type": "code",
   "execution_count": 32,
   "metadata": {},
   "outputs": [
    {
     "data": {
      "text/plain": [
       "array([[0.20314021],\n",
       "       [0.2875405 ],\n",
       "       [0.20079519],\n",
       "       ...,\n",
       "       [0.22502212],\n",
       "       [0.13197894],\n",
       "       [0.29005763]], dtype=float32)"
      ]
     },
     "execution_count": 32,
     "metadata": {},
     "output_type": "execute_result"
    }
   ],
   "source": [
    "y_pred"
   ]
  },
  {
   "cell_type": "code",
   "execution_count": 33,
   "metadata": {},
   "outputs": [],
   "source": [
    "y_pred = np.argmax(y_pred, axis=1)"
   ]
  },
  {
   "cell_type": "code",
   "execution_count": 34,
   "metadata": {},
   "outputs": [
    {
     "data": {
      "text/plain": [
       "(9394    0\n",
       " 898     1\n",
       " 2398    0\n",
       " 5906    0\n",
       " 2343    0\n",
       "        ..\n",
       " 1037    0\n",
       " 2899    0\n",
       " 9549    0\n",
       " 2740    0\n",
       " 6690    0\n",
       " Name: Exited, Length: 2000, dtype: int64,\n",
       " array([0, 1, 0, ..., 0, 0, 0], dtype=int64))"
      ]
     },
     "execution_count": 34,
     "metadata": {},
     "output_type": "execute_result"
    }
   ],
   "source": [
    "y_test , y_test.to_numpy()"
   ]
  },
  {
   "cell_type": "code",
   "execution_count": 35,
   "metadata": {},
   "outputs": [
    {
     "data": {
      "text/plain": [
       "array([[1595,    0],\n",
       "       [ 405,    0]], dtype=int64)"
      ]
     },
     "execution_count": 35,
     "metadata": {},
     "output_type": "execute_result"
    }
   ],
   "source": [
    "# import confusion matrix\n",
    "from sklearn.metrics import confusion_matrix, accuracy_score\n",
    "confusion_matrix(y_test, y_pred)"
   ]
  },
  {
   "cell_type": "code",
   "execution_count": null,
   "metadata": {},
   "outputs": [],
   "source": []
  },
  {
   "cell_type": "code",
   "execution_count": null,
   "metadata": {},
   "outputs": [],
   "source": []
  },
  {
   "cell_type": "code",
   "execution_count": null,
   "metadata": {},
   "outputs": [],
   "source": []
  },
  {
   "cell_type": "code",
   "execution_count": null,
   "metadata": {},
   "outputs": [],
   "source": []
  },
  {
   "cell_type": "code",
   "execution_count": null,
   "metadata": {},
   "outputs": [],
   "source": []
  },
  {
   "cell_type": "code",
   "execution_count": null,
   "metadata": {},
   "outputs": [],
   "source": []
  },
  {
   "cell_type": "code",
   "execution_count": null,
   "metadata": {},
   "outputs": [],
   "source": []
  },
  {
   "cell_type": "code",
   "execution_count": null,
   "metadata": {},
   "outputs": [],
   "source": []
  },
  {
   "cell_type": "code",
   "execution_count": null,
   "metadata": {},
   "outputs": [],
   "source": []
  },
  {
   "cell_type": "code",
   "execution_count": null,
   "metadata": {},
   "outputs": [],
   "source": []
  },
  {
   "cell_type": "code",
   "execution_count": null,
   "metadata": {},
   "outputs": [],
   "source": []
  },
  {
   "cell_type": "code",
   "execution_count": null,
   "metadata": {},
   "outputs": [],
   "source": []
  },
  {
   "cell_type": "code",
   "execution_count": null,
   "metadata": {},
   "outputs": [],
   "source": []
  },
  {
   "cell_type": "code",
   "execution_count": null,
   "metadata": {},
   "outputs": [],
   "source": []
  },
  {
   "cell_type": "code",
   "execution_count": null,
   "metadata": {},
   "outputs": [],
   "source": []
  },
  {
   "cell_type": "code",
   "execution_count": null,
   "metadata": {},
   "outputs": [],
   "source": []
  },
  {
   "cell_type": "code",
   "execution_count": null,
   "metadata": {},
   "outputs": [],
   "source": []
  },
  {
   "cell_type": "code",
   "execution_count": null,
   "metadata": {},
   "outputs": [],
   "source": []
  },
  {
   "cell_type": "code",
   "execution_count": null,
   "metadata": {},
   "outputs": [],
   "source": []
  }
 ],
 "metadata": {
  "kernelspec": {
   "display_name": "Python 3",
   "language": "python",
   "name": "python3"
  },
  "language_info": {
   "codemirror_mode": {
    "name": "ipython",
    "version": 3
   },
   "file_extension": ".py",
   "mimetype": "text/x-python",
   "name": "python",
   "nbconvert_exporter": "python",
   "pygments_lexer": "ipython3",
   "version": "3.9.5"
  },
  "orig_nbformat": 4
 },
 "nbformat": 4,
 "nbformat_minor": 2
}

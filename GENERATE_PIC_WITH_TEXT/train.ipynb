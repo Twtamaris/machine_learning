{
 "cells": [
  {
   "cell_type": "code",
   "execution_count": 1,
   "metadata": {},
   "outputs": [],
   "source": [
    "import os\n",
    "import numpy as np\n",
    "import pandas as pd\n",
    "import matplotlib.pyplot as plt\n",
    "import cv2\n",
    "# import train_test_split from sklearn\n",
    "from sklearn.model_selection import train_test_split"
   ]
  },
  {
   "cell_type": "code",
   "execution_count": null,
   "metadata": {},
   "outputs": [],
   "source": [
    "folders = ['dog','cat','pizza','person', 'space', 'car', 'flower','mountain']"
   ]
  },
  {
   "cell_type": "code",
   "execution_count": 12,
   "metadata": {},
   "outputs": [],
   "source": [
    "# for folder in folders:\n",
    "#     files = os.listdir('images/'+folder)\n",
    "#     for i,file_ in enumerate(files):\n",
    "#         if i<len(files)*0.2:\n",
    "#             img = cv2.imread('images/'+folder+'/'+file_)\n",
    "#             cv2.imwrite('dog/'+file_, img)\n",
    "        \n",
    "    \n",
    "    \n"
   ]
  },
  {
   "cell_type": "code",
   "execution_count": 16,
   "metadata": {},
   "outputs": [],
   "source": [
    "# folders = os.listdir('cats')\n",
    "# for folder in folders:\n",
    "#     files = os.listdir('cats/'+folder)\n",
    "#     for i,file_ in enumerate(files):\n",
    "#         if i<len(files)*0.4 and file_.endswith('.jpg'):\n",
    "#             img = cv2.imread('cats/'+folder+'/'+file_)\n",
    "#             cv2.imwrite('cat/'+file_, img)\n",
    "        \n",
    "    \n",
    "    \n"
   ]
  },
  {
   "cell_type": "code",
   "execution_count": 18,
   "metadata": {},
   "outputs": [],
   "source": [
    "# folders = os.listdir('train')\n",
    "# for folder in folders:\n",
    "#     files = os.listdir('train/'+folder)\n",
    "#     for i,file_ in enumerate(files):\n",
    "#         if i<1800:\n",
    "#             img = cv2.imread('train/'+folder+'/'+file_)\n",
    "#             cv2.imwrite('burger/'+file_, img)\n",
    "#         elif i<3600:\n",
    "#             img = cv2.imread('train/'+folder+'/'+file_)\n",
    "#             cv2.imwrite('pizza/'+file_, img)\n",
    "#         else:\n",
    "#             img = cv2.imread('train/'+folder+'/'+file_)\n",
    "#             cv2.imwrite('coke/'+file_, img)\n",
    "        \n",
    "    \n",
    "    \n"
   ]
  },
  {
   "cell_type": "code",
   "execution_count": null,
   "metadata": {},
   "outputs": [],
   "source": []
  }
 ],
 "metadata": {
  "kernelspec": {
   "display_name": "Python 3",
   "language": "python",
   "name": "python3"
  },
  "language_info": {
   "codemirror_mode": {
    "name": "ipython",
    "version": 3
   },
   "file_extension": ".py",
   "mimetype": "text/x-python",
   "name": "python",
   "nbconvert_exporter": "python",
   "pygments_lexer": "ipython3",
   "version": "3.9.5"
  },
  "orig_nbformat": 4
 },
 "nbformat": 4,
 "nbformat_minor": 2
}

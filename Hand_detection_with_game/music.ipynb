{
 "cells": [
  {
   "cell_type": "code",
   "execution_count": 6,
   "metadata": {},
   "outputs": [
    {
     "ename": "ModuleNotFoundError",
     "evalue": "No module named 'pydsmidi'",
     "output_type": "error",
     "traceback": [
      "\u001b[1;31m---------------------------------------------------------------------------\u001b[0m",
      "\u001b[1;31mModuleNotFoundError\u001b[0m                       Traceback (most recent call last)",
      "\u001b[1;32mc:\\Users\\baral\\Desktop\\machine_learning\\Hand_detection_with_game\\music.ipynb Cell 1\u001b[0m in \u001b[0;36m<cell line: 3>\u001b[1;34m()\u001b[0m\n\u001b[0;32m      <a href='vscode-notebook-cell:/c%3A/Users/baral/Desktop/machine_learning/Hand_detection_with_game/music.ipynb#W0sZmlsZQ%3D%3D?line=0'>1</a>\u001b[0m \u001b[39mimport\u001b[39;00m \u001b[39mnumpy\u001b[39;00m \u001b[39mas\u001b[39;00m \u001b[39mnp\u001b[39;00m\n\u001b[0;32m      <a href='vscode-notebook-cell:/c%3A/Users/baral/Desktop/machine_learning/Hand_detection_with_game/music.ipynb#W0sZmlsZQ%3D%3D?line=1'>2</a>\u001b[0m \u001b[39mimport\u001b[39;00m \u001b[39mtensorflow\u001b[39;00m \u001b[39mas\u001b[39;00m \u001b[39mtf\u001b[39;00m\n\u001b[1;32m----> <a href='vscode-notebook-cell:/c%3A/Users/baral/Desktop/machine_learning/Hand_detection_with_game/music.ipynb#W0sZmlsZQ%3D%3D?line=2'>3</a>\u001b[0m \u001b[39mfrom\u001b[39;00m \u001b[39mpydsmidi\u001b[39;00m \u001b[39mimport\u001b[39;00m Synthesizer, WriteMidi\n\u001b[0;32m      <a href='vscode-notebook-cell:/c%3A/Users/baral/Desktop/machine_learning/Hand_detection_with_game/music.ipynb#W0sZmlsZQ%3D%3D?line=4'>5</a>\u001b[0m \u001b[39m# Define the parameters\u001b[39;00m\n\u001b[0;32m      <a href='vscode-notebook-cell:/c%3A/Users/baral/Desktop/machine_learning/Hand_detection_with_game/music.ipynb#W0sZmlsZQ%3D%3D?line=5'>6</a>\u001b[0m sequence_length \u001b[39m=\u001b[39m \u001b[39m100\u001b[39m  \u001b[39m# Length of the input sequence\u001b[39;00m\n",
      "\u001b[1;31mModuleNotFoundError\u001b[0m: No module named 'pydsmidi'"
     ]
    }
   ],
   "source": [
    "import numpy as np\n",
    "import tensorflow as tf\n",
    "from pydsmidi import Synthesizer, WriteMidi\n",
    "\n",
    "# Define the parameters\n",
    "sequence_length = 100  # Length of the input sequence\n",
    "num_features = 128    # Number of possible musical notes\n",
    "num_notes = 500       # Number of notes to generate\n",
    "\n",
    "# Define the RNN model architecture\n",
    "model = tf.keras.models.Sequential([\n",
    "    tf.keras.layers.LSTM(256, input_shape=(sequence_length, num_features), return_sequences=True),\n",
    "    tf.keras.layers.Dropout(0.3),\n",
    "    tf.keras.layers.LSTM(256, return_sequences=True),\n",
    "    tf.keras.layers.Dropout(0.3),\n",
    "    tf.keras.layers.Dense(num_features, activation='softmax')\n",
    "])\n",
    "\n",
    "# Compile the model\n",
    "model.compile(loss='categorical_crossentropy', optimizer='adam')\n",
    "\n",
    "# Generate music\n",
    "def generate_music():\n",
    "    # Initialize the seed sequence\n",
    "    seed_sequence = np.random.rand(1, sequence_length, num_features)\n",
    "\n",
    "    generated_music = []\n",
    "\n",
    "    # Generate the desired number of notes\n",
    "    for _ in range(num_notes):\n",
    "        # Predict the next note probabilities\n",
    "        predictions = model.predict(seed_sequence)\n",
    "        \n",
    "        # Sample the next note using the predicted probabilities\n",
    "        next_note = np.random.choice(num_features, p=predictions[0][-1])\n",
    "\n",
    "        # Append the next note to the generated music\n",
    "        generated_music.append(next_note)\n",
    "\n",
    "        # Update the seed sequence by shifting and adding the new note\n",
    "        seed_sequence = np.concatenate((seed_sequence[:, 1:, :], np.expand_dims(predictions[:, -1, :], axis=1)), axis=1)\n",
    "\n",
    "    return generated_music\n",
    "\n",
    "# Generate music using the model\n",
    "generated_music = generate_music()\n",
    "\n",
    "# Create a synthesizer and write the generated music to a MIDI file\n",
    "synth = Synthesizer()\n",
    "for note in generated_music:\n",
    "    synth.noteon(0, note, 127)\n",
    "    synth.noteoff(0, note, 127)\n",
    "\n",
    "WriteMidi(\"generated_music.mid\", [synth.events], (num_notes * 480))\n",
    "\n"
   ]
  },
  {
   "cell_type": "code",
   "execution_count": null,
   "metadata": {},
   "outputs": [],
   "source": [
    "def gives_angle(perp_distance, eyes_distance, ):\n",
    "    hypoteneous = sqroot(perp_distance, eyes_distance)\n",
    "    angle = taninverse(perp_distance/eyes_distance)\n",
    "    return angle"
   ]
  }
 ],
 "metadata": {
  "kernelspec": {
   "display_name": "Python 3",
   "language": "python",
   "name": "python3"
  },
  "language_info": {
   "codemirror_mode": {
    "name": "ipython",
    "version": 3
   },
   "file_extension": ".py",
   "mimetype": "text/x-python",
   "name": "python",
   "nbconvert_exporter": "python",
   "pygments_lexer": "ipython3",
   "version": "3.9.5"
  },
  "orig_nbformat": 4
 },
 "nbformat": 4,
 "nbformat_minor": 2
}

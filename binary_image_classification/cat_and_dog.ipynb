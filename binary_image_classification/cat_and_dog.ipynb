{
 "cells": [
  {
   "cell_type": "code",
   "execution_count": 8,
   "metadata": {},
   "outputs": [],
   "source": [
    "import tensorflow as tf\n",
    "import numpy as np\n",
    "import pandas as pd\n",
    "import matplotlib.pyplot as plt"
   ]
  },
  {
   "attachments": {},
   "cell_type": "markdown",
   "metadata": {},
   "source": [
    "# Buidling the Model"
   ]
  },
  {
   "cell_type": "code",
   "execution_count": 9,
   "metadata": {},
   "outputs": [],
   "source": [
    "# Creating the object(Initializing the CNN)\n",
    "model = tf.keras.models.Sequential()\n"
   ]
  },
  {
   "cell_type": "code",
   "execution_count": 10,
   "metadata": {},
   "outputs": [],
   "source": [
    "# Adding first convolutional layer(input layer)\n",
    "# 1. filters: number of filters = 64\n",
    "# 2. kernel_size: size of the filter = 3x3\n",
    "# 3. activation function = relu\n",
    "# 4. input_shape: shape of the input image = (32, 32, 3)\n",
    "# 5. padding = same\n",
    "\n",
    "model.add(tf.keras.layers.Conv2D(filters=64, kernel_size=3, activation='relu', input_shape=(32, 32, 3), padding='same'))\n"
   ]
  },
  {
   "cell_type": "code",
   "execution_count": 11,
   "metadata": {},
   "outputs": [],
   "source": [
    "# Adding maxpooling layer\n",
    "# 1. pool_size: size of the filter = 2x2\n",
    "# 2. strides = 2\n",
    "# 3. padding = valid\n",
    "\n",
    "model.add(tf.keras.layers.MaxPool2D(pool_size=(2, 2), strides=2, padding='valid'))\n"
   ]
  },
  {
   "cell_type": "code",
   "execution_count": 12,
   "metadata": {},
   "outputs": [],
   "source": [
    "# Adding second convolutional layer and maxpooling layer\n",
    "model.add(tf.keras.layers.Conv2D(filters=64, kernel_size=3, activation='relu', padding='same'))\n",
    "\n",
    "model.add(tf.keras.layers.MaxPool2D(pool_size=(2, 2), strides=2, padding='valid'))\n",
    "\n",
    "\n"
   ]
  },
  {
   "cell_type": "code",
   "execution_count": 13,
   "metadata": {},
   "outputs": [],
   "source": [
    "# Adding the Flatten layer\n",
    "model.add(tf.keras.layers.Flatten())"
   ]
  },
  {
   "cell_type": "code",
   "execution_count": 14,
   "metadata": {},
   "outputs": [],
   "source": [
    "# Adding the dropout layer\n",
    "model.add(tf.keras.layers.Dropout(0.4))"
   ]
  },
  {
   "cell_type": "code",
   "execution_count": 15,
   "metadata": {},
   "outputs": [],
   "source": [
    "# Adding the fully connected layer i.e. ANN\n",
    "model.add(tf.keras.layers.Dense(units=128, activation='relu'))"
   ]
  },
  {
   "cell_type": "code",
   "execution_count": 16,
   "metadata": {},
   "outputs": [],
   "source": [
    "# Adding the output layer\n",
    "model.add(tf.keras.layers.Dense(units=1, activation='sigmoid'))"
   ]
  },
  {
   "cell_type": "code",
   "execution_count": 17,
   "metadata": {},
   "outputs": [],
   "source": [
    "# compiling the model\n",
    "model.compile(optimizer='adam', loss='binary_crossentropy', metrics=['accuracy'])"
   ]
  },
  {
   "attachments": {},
   "cell_type": "markdown",
   "metadata": {},
   "source": [
    "# Fitting the CNN to the images"
   ]
  },
  {
   "cell_type": "code",
   "execution_count": 18,
   "metadata": {},
   "outputs": [],
   "source": [
    "# import ImageDataGenerator\n",
    "from tensorflow.keras.preprocessing.image import ImageDataGenerator"
   ]
  },
  {
   "cell_type": "code",
   "execution_count": 19,
   "metadata": {},
   "outputs": [],
   "source": [
    "# rescaling the images\n",
    "datagen = ImageDataGenerator(rescale=1./255)"
   ]
  },
  {
   "cell_type": "code",
   "execution_count": 20,
   "metadata": {},
   "outputs": [
    {
     "name": "stdout",
     "output_type": "stream",
     "text": [
      "Found 8005 images belonging to 2 classes.\n",
      "Found 2023 images belonging to 2 classes.\n"
     ]
    }
   ],
   "source": [
    "training_set = datagen.flow_from_directory(directory='training_set', target_size=(32, 32), batch_size=20, class_mode='binary', classes=['cats', 'dogs'])\n",
    "test_set = datagen.flow_from_directory(directory='test_set', target_size=(32, 32), batch_size=20, class_mode='binary', classes=['cats', 'dogs'])"
   ]
  },
  {
   "cell_type": "code",
   "execution_count": 21,
   "metadata": {},
   "outputs": [
    {
     "data": {
      "text/plain": [
       "(401, 102)"
      ]
     },
     "execution_count": 21,
     "metadata": {},
     "output_type": "execute_result"
    }
   ],
   "source": [
    "len(training_set), len(test_set)"
   ]
  },
  {
   "cell_type": "code",
   "execution_count": 22,
   "metadata": {},
   "outputs": [
    {
     "name": "stderr",
     "output_type": "stream",
     "text": [
      "C:\\Users\\baral\\AppData\\Local\\Temp\\ipykernel_16676\\3517838368.py:1: UserWarning: `Model.fit_generator` is deprecated and will be removed in a future version. Please use `Model.fit`, which supports generators.\n",
      "  history = model.fit_generator(training_set, steps_per_epoch=len(training_set), epochs=20, validation_data=test_set, validation_steps=len(test_set))\n"
     ]
    },
    {
     "name": "stdout",
     "output_type": "stream",
     "text": [
      "Epoch 1/20\n",
      "401/401 [==============================] - 84s 207ms/step - loss: 0.6698 - accuracy: 0.5846 - val_loss: 0.6354 - val_accuracy: 0.6243\n",
      "Epoch 2/20\n",
      "401/401 [==============================] - 29s 73ms/step - loss: 0.6166 - accuracy: 0.6692 - val_loss: 0.5810 - val_accuracy: 0.7103\n",
      "Epoch 3/20\n",
      "401/401 [==============================] - 29s 71ms/step - loss: 0.5726 - accuracy: 0.7027 - val_loss: 0.5772 - val_accuracy: 0.6896\n",
      "Epoch 4/20\n",
      "401/401 [==============================] - 27s 66ms/step - loss: 0.5451 - accuracy: 0.7233 - val_loss: 0.5382 - val_accuracy: 0.7360\n",
      "Epoch 5/20\n",
      "401/401 [==============================] - 27s 67ms/step - loss: 0.5108 - accuracy: 0.7473 - val_loss: 0.5232 - val_accuracy: 0.7410\n",
      "Epoch 6/20\n",
      "401/401 [==============================] - 29s 72ms/step - loss: 0.4699 - accuracy: 0.7706 - val_loss: 0.5137 - val_accuracy: 0.7504\n",
      "Epoch 7/20\n",
      "401/401 [==============================] - 29s 71ms/step - loss: 0.4446 - accuracy: 0.7939 - val_loss: 0.5146 - val_accuracy: 0.7593\n",
      "Epoch 8/20\n",
      "401/401 [==============================] - 29s 72ms/step - loss: 0.4205 - accuracy: 0.8030 - val_loss: 0.5025 - val_accuracy: 0.7692\n",
      "Epoch 9/20\n",
      "401/401 [==============================] - 29s 73ms/step - loss: 0.3830 - accuracy: 0.8300 - val_loss: 0.4979 - val_accuracy: 0.7637\n",
      "Epoch 10/20\n",
      "401/401 [==============================] - 30s 75ms/step - loss: 0.3645 - accuracy: 0.8381 - val_loss: 0.5064 - val_accuracy: 0.7617\n",
      "Epoch 11/20\n",
      "401/401 [==============================] - 33s 83ms/step - loss: 0.3301 - accuracy: 0.8560 - val_loss: 0.5078 - val_accuracy: 0.7865\n",
      "Epoch 12/20\n",
      "401/401 [==============================] - 33s 81ms/step - loss: 0.2883 - accuracy: 0.8737 - val_loss: 0.5178 - val_accuracy: 0.7860\n",
      "Epoch 13/20\n",
      "401/401 [==============================] - 30s 74ms/step - loss: 0.2616 - accuracy: 0.8918 - val_loss: 0.5458 - val_accuracy: 0.7667\n",
      "Epoch 14/20\n",
      "401/401 [==============================] - 31s 77ms/step - loss: 0.2244 - accuracy: 0.9098 - val_loss: 0.5765 - val_accuracy: 0.7825\n",
      "Epoch 15/20\n",
      "401/401 [==============================] - 30s 76ms/step - loss: 0.2032 - accuracy: 0.9183 - val_loss: 0.6142 - val_accuracy: 0.7751\n",
      "Epoch 16/20\n",
      "401/401 [==============================] - 31s 78ms/step - loss: 0.1816 - accuracy: 0.9265 - val_loss: 0.5871 - val_accuracy: 0.7736\n",
      "Epoch 17/20\n",
      "401/401 [==============================] - 33s 82ms/step - loss: 0.1571 - accuracy: 0.9380 - val_loss: 0.6362 - val_accuracy: 0.7746\n",
      "Epoch 18/20\n",
      "401/401 [==============================] - 30s 76ms/step - loss: 0.1390 - accuracy: 0.9483 - val_loss: 0.6761 - val_accuracy: 0.7711\n",
      "Epoch 19/20\n",
      "401/401 [==============================] - 31s 77ms/step - loss: 0.1193 - accuracy: 0.9548 - val_loss: 0.7196 - val_accuracy: 0.7573\n",
      "Epoch 20/20\n",
      "401/401 [==============================] - 31s 78ms/step - loss: 0.1255 - accuracy: 0.9540 - val_loss: 0.7173 - val_accuracy: 0.7627\n"
     ]
    }
   ],
   "source": [
    "history = model.fit_generator(training_set, steps_per_epoch=len(training_set), epochs=20, validation_data=test_set, validation_steps=len(test_set))"
   ]
  },
  {
   "attachments": {},
   "cell_type": "markdown",
   "metadata": {},
   "source": [
    "# Step 5: Plotting the Learning curves"
   ]
  },
  {
   "cell_type": "code",
   "execution_count": 24,
   "metadata": {},
   "outputs": [],
   "source": [
    "def learning(history, epoch):\n",
    "    # training vs validation accuracy\n",
    "    epoch_range = range(1, epoch+1)\n",
    "    plt.plot(epoch_range, history.history['accuracy'])\n",
    "    plt.plot(epoch_range, history.history['val_accuracy'])\n",
    "    plt.title('Model Accuracy')\n",
    "    plt.xlabel('Epoch')\n",
    "    plt.ylabel('Accuracy')\n",
    "    plt.legend(['Train', 'Val'], loc='upper left')\n",
    "    plt.show()\n",
    "\n",
    "    # training vs validation loss\n",
    "    plt.plot(epoch_range, history.history['loss'])\n",
    "    plt.plot(epoch_range, history.history['val_loss'])\n",
    "    plt.title('Model Loss')\n",
    "    plt.xlabel('Epoch')\n",
    "    plt.ylabel('Loss')\n",
    "    plt.legend(['Train', 'Val'], loc='upper left')\n",
    "    plt.show()\n",
    "    \n",
    "\n",
    "    "
   ]
  },
  {
   "cell_type": "code",
   "execution_count": 25,
   "metadata": {},
   "outputs": [
    {
     "data": {
      "image/png": "[encoded data removed]",
      "text/plain": [
       "<Figure size 432x288 with 1 Axes>"
      ]
     },
     "metadata": {
      "needs_background": "light"
     },
     "output_type": "display_data"
    },
    {
     "data": {
      "image/png": "[encoded data removed]",
      "text/plain": [
       "<Figure size 432x288 with 1 Axes>"
      ]
     },
     "metadata": {
      "needs_background": "light"
     },
     "output_type": "display_data"
    }
   ],
   "source": [
    "learning(history, 20)"
   ]
  },
  {
   "cell_type": "code",
   "execution_count": null,
   "metadata": {},
   "outputs": [],
   "source": []
  },
  {
   "cell_type": "code",
   "execution_count": null,
   "metadata": {},
   "outputs": [],
   "source": []
  },
  {
   "cell_type": "code",
   "execution_count": null,
   "metadata": {},
   "outputs": [],
   "source": []
  },
  {
   "cell_type": "code",
   "execution_count": null,
   "metadata": {},
   "outputs": [],
   "source": []
  },
  {
   "cell_type": "code",
   "execution_count": null,
   "metadata": {},
   "outputs": [],
   "source": []
  },
  {
   "cell_type": "code",
   "execution_count": null,
   "metadata": {},
   "outputs": [],
   "source": []
  },
  {
   "cell_type": "code",
   "execution_count": null,
   "metadata": {},
   "outputs": [],
   "source": []
  }
 ],
 "metadata": {
  "kernelspec": {
   "display_name": "Python 3",
   "language": "python",
   "name": "python3"
  },
  "language_info": {
   "codemirror_mode": {
    "name": "ipython",
    "version": 3
   },
   "file_extension": ".py",
   "mimetype": "text/x-python",
   "name": "python",
   "nbconvert_exporter": "python",
   "pygments_lexer": "ipython3",
   "version": "3.9.5"
  },
  "orig_nbformat": 4
 },
 "nbformat": 4,
 "nbformat_minor": 2
}
